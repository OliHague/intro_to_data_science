{
 "cells": [
  {
   "cell_type": "markdown",
   "metadata": {
    "colab_type": "text",
    "id": "Ko_gEyin_kfx"
   },
   "source": [
    "# Getting started with Data Science"
   ]
  },
  {
   "cell_type": "markdown",
   "metadata": {
    "colab_type": "text",
    "id": "mD-0nG4KLOrx"
   },
   "source": [
    "---\n",
    "\n",
    "Whilst there's no template for solving a data science problem, we do go through similar steps in the different projects we take on. This notebook will follow through (and hopefully bring to life) the key steps of a data science project workflow.\n",
    "\n",
    "** Key steps of a data science workflow**\n",
    "\n",
    "1. Identify the problem\n",
    "2. Obtain the data\n",
    "3. Explore the data\n",
    "4. Build a model\n",
    "5. Communicate the results\n",
    "\n",
    "This process is iterative and completely non-linear. Quite often as you dig deeper into the data you'll uncover new questions and problems to solve. \n",
    "\n",
    "### 1. Identify the problem\n",
    "---\n",
    "\n",
    "The first thing you need to do is to identify the problem and also **understand why it needs be solved**. You should think about the possible ways of solving this problem and ensure it is a problem that can be solved through data science. It's key to identify who the stakeholders are and what the business benefit is of solving this problem.\n",
    "\n",
    "It's important to **define a success criteria** at the begining of your project, which is really helpful as it provides you with a **stopping point** for your project. Data science projects are notorious for continuing on for too long. \n",
    "\n",
    "In this notebook we will be looing at a wine dataset which is related to red and white Vinho Verde wine samples, from the north of Portugal.\n",
    "\n",
    "In the example we will be working through today, we will be trying to predict whether a wine is white or red.\n",
    "\n",
    "### 2. Obtain the data\n",
    "\n",
    "---\n",
    "\n",
    "Data can come from all different sources, you might have your data available as a CSV (stored locally or in the cloud), you may need to query a relational database like SQL, or might need to scrape data from the web.\n",
    "\n",
    "You'll need to think about whether you have enough data available, and whether the data is relevant to the research question. \n",
    "\n",
    "It's also important to identify the assumptions and limitations of the data you're working with. \n",
    "\n",
    "And finally can the data you're working with be supplemented with additional data - you could check what relevant publically available data you can find online. \n",
    "\n",
    "In this example the datasets that we are working with are in a CSV format, we are going to read them in directly from an online source using a package called Pandas. Pandas is a powerful and flexible python package for data manipulation and analysis. \n",
    "\n",
    "#### Imports & packages"
   ]
  },
  {
   "cell_type": "code",
   "execution_count": 2,
   "metadata": {
    "colab": {
     "autoexec": {
      "startup": false,
      "wait_interval": 0
     }
    },
    "colab_type": "code",
    "id": "IuvVI62-_kf0"
   },
   "outputs": [],
   "source": [
    "import numpy as np\n",
    "import pandas as pd\n",
    "import matplotlib.pyplot as plt\n",
    "import seaborn as sns\n",
    "import itertools\n",
    "\n",
    "from sklearn import metrics, model_selection as ms, neighbors\n",
    "from sklearn import tree, ensemble\n",
    "from sklearn.preprocessing import StandardScaler"
   ]
  },
  {
   "cell_type": "code",
   "execution_count": 3,
   "metadata": {
    "colab": {
     "autoexec": {
      "startup": false,
      "wait_interval": 0
     }
    },
    "colab_type": "code",
    "id": "Xj3jngccgI_n"
   },
   "outputs": [],
   "source": [
    "def plot_confusion_matrix(cm, classes, title='Confusion matrix\\n', cmap=plt.cm.PuBuGn):\n",
    "    plt.figure(figsize=(8,6))\n",
    "    plt.imshow(cm, interpolation='nearest', cmap=cmap)\n",
    "    plt.title(title, fontsize=20)\n",
    "    plt.colorbar()\n",
    "    tick_marks = np.arange(len(classes))\n",
    "    plt.xticks(tick_marks, classes, rotation=45)\n",
    "    plt.yticks(tick_marks, classes)\n",
    "    thresh = cm.max() / 2.\n",
    "\n",
    "    for i, j in itertools.product(range(cm.shape[0]), range(cm.shape[1])):\n",
    "        plt.text(j, i, cm[i, j],\n",
    "                 horizontalalignment=\"center\",\n",
    "                 color=\"white\" if cm[i, j] > thresh else \"black\")\n",
    "\n",
    "    plt.ylabel('True label\\n', fontsize=14)\n",
    "    plt.xlabel('Predicted label\\n', fontsize=14)\n",
    "    plt.show()"
   ]
  },
  {
   "cell_type": "code",
   "execution_count": 4,
   "metadata": {
    "colab": {
     "autoexec": {
      "startup": false,
      "wait_interval": 0
     }
    },
    "colab_type": "code",
    "id": "R6aFLqVx0E1v"
   },
   "outputs": [],
   "source": [
    "sns.set_palette('Set2', 8)"
   ]
  },
  {
   "cell_type": "markdown",
   "metadata": {},
   "source": [
    "#### Reading in the datasets"
   ]
  },
  {
   "cell_type": "code",
   "execution_count": 5,
   "metadata": {
    "colab": {
     "autoexec": {
      "startup": false,
      "wait_interval": 0
     }
    },
    "colab_type": "code",
    "id": "CNGPM3S-_kf8"
   },
   "outputs": [],
   "source": [
    "WHITES_URL = 'http://archive.ics.uci.edu/ml/machine-learning-databases/wine-quality/winequality-white.csv'\n",
    "REDS_URL = 'https://archive.ics.uci.edu/ml/machine-learning-databases/wine-quality/winequality-red.csv'"
   ]
  },
  {
   "cell_type": "code",
   "execution_count": 6,
   "metadata": {
    "colab": {
     "autoexec": {
      "startup": false,
      "wait_interval": 0
     }
    },
    "colab_type": "code",
    "id": "6mBIk1Tw_kgD"
   },
   "outputs": [],
   "source": [
    "whites = pd.read_csv(WHITES_URL, sep=';')\n",
    "reds = pd.read_csv(REDS_URL, sep=';')"
   ]
  },
  {
   "cell_type": "markdown",
   "metadata": {
    "colab_type": "text",
    "id": "z_ig8-BJoY1U"
   },
   "source": [
    "### 3. Explore the data\n",
    "---\n",
    "This is an opportunity to really **understand** the data that you're working with. I rely heavily on Pandas to **manipulate, clean and inspect the data** I'm working with. I then use Matplotlib and Seaborn (two popular Python plotting libraries) to **visualise how the data is distributed**.\n",
    "\n",
    "Exploratory data analysis (EDA) gives the data scientist an opportunity to really learn about the data they are working with. Many data scientists find themselves coming back to EDA and the findings they found later on in the process.\n",
    "\n",
    "When working with a new dataset it is worth checking to see if any documentation is available. If available, this will help you to understand how the data was collected, what the different features are and any limitations of the data you are working with. \n",
    "\n",
    "At this point you should refer back to the problem that you're trying to solve. Is this **supervised** learning or **unsupervised** learning? Is this a **classification** problem or is it a **regression** problem? Is this a **prediction** problem or an **inference** problem?\n",
    "\n",
    "For this example, we are making a **prediction** (whether a wine is red or white) and we have **labelled training data** as we know the colour of the wine, therefore it is a **supervised learning** problem. The thing we are predicting is **categorical** therefore we will be using a **classification algorithm**. \n"
   ]
  },
  {
   "cell_type": "markdown",
   "metadata": {
    "colab_type": "text",
    "id": "4qJvh6b41PNO"
   },
   "source": [
    "_First we'll join the two datasets together, adding a new variable for colour_"
   ]
  },
  {
   "cell_type": "code",
   "execution_count": 7,
   "metadata": {
    "colab": {
     "autoexec": {
      "startup": false,
      "wait_interval": 0
     }
    },
    "colab_type": "code",
    "id": "mOq3OkLk1bQy"
   },
   "outputs": [],
   "source": [
    "whites['colour'] = 'w'\n",
    "reds['colour'] = 'r'"
   ]
  },
  {
   "cell_type": "code",
   "execution_count": 8,
   "metadata": {
    "colab": {
     "autoexec": {
      "startup": false,
      "wait_interval": 0
     }
    },
    "colab_type": "code",
    "id": "VA3zsm861lQa"
   },
   "outputs": [],
   "source": [
    "wine = pd.concat([whites, reds], axis=0, ignore_index=True)"
   ]
  },
  {
   "cell_type": "markdown",
   "metadata": {},
   "source": [
    "Taking a subset of the features to simplify the problem."
   ]
  },
  {
   "cell_type": "code",
   "execution_count": 9,
   "metadata": {
    "colab": {
     "autoexec": {
      "startup": false,
      "wait_interval": 0
     },
     "base_uri": "https://localhost:8080/",
     "height": 85
    },
    "colab_type": "code",
    "executionInfo": {
     "elapsed": 697,
     "status": "ok",
     "timestamp": 1532019872015,
     "user": {
      "displayName": "Hannah Penfold",
      "photoUrl": "//lh3.googleusercontent.com/-c1fxp7gOJUo/AAAAAAAAAAI/AAAAAAAAAGk/tRPI_hFXTQ8/s50-c-k-no/photo.jpg",
      "userId": "114469263464299247639"
     },
     "user_tz": -60
    },
    "id": "XToctSdIqgWQ",
    "outputId": "34c5795b-c0e5-4667-cdc6-653e9d5b91c9"
   },
   "outputs": [
    {
     "data": {
      "text/plain": [
       "Index(['fixed acidity', 'volatile acidity', 'citric acid', 'residual sugar',\n",
       "       'chlorides', 'free sulfur dioxide', 'total sulfur dioxide', 'density',\n",
       "       'pH', 'sulphates', 'alcohol', 'quality', 'colour'],\n",
       "      dtype='object')"
      ]
     },
     "execution_count": 9,
     "metadata": {},
     "output_type": "execute_result"
    }
   ],
   "source": [
    "wine.columns"
   ]
  },
  {
   "cell_type": "code",
   "execution_count": 10,
   "metadata": {
    "colab": {
     "autoexec": {
      "startup": false,
      "wait_interval": 0
     }
    },
    "colab_type": "code",
    "id": "cIBedHykpZEZ"
   },
   "outputs": [],
   "source": [
    "wine = wine[['fixed acidity', 'residual sugar', 'total sulfur dioxide', 'alcohol', 'colour']]"
   ]
  },
  {
   "cell_type": "markdown",
   "metadata": {},
   "source": [
    "Now we can take a look at the first few lines of the dataset that we're working with."
   ]
  },
  {
   "cell_type": "code",
   "execution_count": 11,
   "metadata": {},
   "outputs": [
    {
     "data": {
      "text/html": [
       "<div>\n",
       "<style scoped>\n",
       "    .dataframe tbody tr th:only-of-type {\n",
       "        vertical-align: middle;\n",
       "    }\n",
       "\n",
       "    .dataframe tbody tr th {\n",
       "        vertical-align: top;\n",
       "    }\n",
       "\n",
       "    .dataframe thead th {\n",
       "        text-align: right;\n",
       "    }\n",
       "</style>\n",
       "<table border=\"1\" class=\"dataframe\">\n",
       "  <thead>\n",
       "    <tr style=\"text-align: right;\">\n",
       "      <th></th>\n",
       "      <th>fixed acidity</th>\n",
       "      <th>residual sugar</th>\n",
       "      <th>total sulfur dioxide</th>\n",
       "      <th>alcohol</th>\n",
       "      <th>colour</th>\n",
       "    </tr>\n",
       "  </thead>\n",
       "  <tbody>\n",
       "    <tr>\n",
       "      <th>0</th>\n",
       "      <td>7.0</td>\n",
       "      <td>20.7</td>\n",
       "      <td>170.0</td>\n",
       "      <td>8.8</td>\n",
       "      <td>w</td>\n",
       "    </tr>\n",
       "    <tr>\n",
       "      <th>1</th>\n",
       "      <td>6.3</td>\n",
       "      <td>1.6</td>\n",
       "      <td>132.0</td>\n",
       "      <td>9.5</td>\n",
       "      <td>w</td>\n",
       "    </tr>\n",
       "    <tr>\n",
       "      <th>2</th>\n",
       "      <td>8.1</td>\n",
       "      <td>6.9</td>\n",
       "      <td>97.0</td>\n",
       "      <td>10.1</td>\n",
       "      <td>w</td>\n",
       "    </tr>\n",
       "    <tr>\n",
       "      <th>3</th>\n",
       "      <td>7.2</td>\n",
       "      <td>8.5</td>\n",
       "      <td>186.0</td>\n",
       "      <td>9.9</td>\n",
       "      <td>w</td>\n",
       "    </tr>\n",
       "    <tr>\n",
       "      <th>4</th>\n",
       "      <td>7.2</td>\n",
       "      <td>8.5</td>\n",
       "      <td>186.0</td>\n",
       "      <td>9.9</td>\n",
       "      <td>w</td>\n",
       "    </tr>\n",
       "  </tbody>\n",
       "</table>\n",
       "</div>"
      ],
      "text/plain": [
       "   fixed acidity  residual sugar  total sulfur dioxide  alcohol colour\n",
       "0            7.0            20.7                 170.0      8.8      w\n",
       "1            6.3             1.6                 132.0      9.5      w\n",
       "2            8.1             6.9                  97.0     10.1      w\n",
       "3            7.2             8.5                 186.0      9.9      w\n",
       "4            7.2             8.5                 186.0      9.9      w"
      ]
     },
     "execution_count": 11,
     "metadata": {},
     "output_type": "execute_result"
    }
   ],
   "source": [
    "wine.head()"
   ]
  },
  {
   "cell_type": "markdown",
   "metadata": {
    "colab_type": "text",
    "id": "efoYNSdDLu8E"
   },
   "source": [
    "Whats the shape of the dataset?"
   ]
  },
  {
   "cell_type": "code",
   "execution_count": 10,
   "metadata": {
    "colab": {
     "autoexec": {
      "startup": false,
      "wait_interval": 0
     },
     "base_uri": "https://localhost:8080/",
     "height": 34
    },
    "colab_type": "code",
    "executionInfo": {
     "elapsed": 627,
     "status": "ok",
     "timestamp": 1532019877573,
     "user": {
      "displayName": "Hannah Penfold",
      "photoUrl": "//lh3.googleusercontent.com/-c1fxp7gOJUo/AAAAAAAAAAI/AAAAAAAAAGk/tRPI_hFXTQ8/s50-c-k-no/photo.jpg",
      "userId": "114469263464299247639"
     },
     "user_tz": -60
    },
    "id": "XeIm8gK5pJun",
    "outputId": "94c86e42-695d-4954-d1a1-f57b92919e85"
   },
   "outputs": [
    {
     "data": {
      "text/plain": [
       "(6497, 5)"
      ]
     },
     "execution_count": 10,
     "metadata": {
      "tags": []
     },
     "output_type": "execute_result"
    }
   ],
   "source": [
    "wine.shape"
   ]
  },
  {
   "cell_type": "markdown",
   "metadata": {
    "colab_type": "text",
    "id": "IXB7mWdVqSbe"
   },
   "source": [
    "What features do we have?"
   ]
  },
  {
   "cell_type": "code",
   "execution_count": 11,
   "metadata": {
    "colab": {
     "autoexec": {
      "startup": false,
      "wait_interval": 0
     },
     "base_uri": "https://localhost:8080/",
     "height": 68
    },
    "colab_type": "code",
    "executionInfo": {
     "elapsed": 994,
     "status": "ok",
     "timestamp": 1532019878792,
     "user": {
      "displayName": "Hannah Penfold",
      "photoUrl": "//lh3.googleusercontent.com/-c1fxp7gOJUo/AAAAAAAAAAI/AAAAAAAAAGk/tRPI_hFXTQ8/s50-c-k-no/photo.jpg",
      "userId": "114469263464299247639"
     },
     "user_tz": -60
    },
    "id": "Xvs4J92hpSir",
    "outputId": "34359cc9-2800-4975-eb92-e2c14fa84618"
   },
   "outputs": [
    {
     "data": {
      "text/plain": [
       "Index(['fixed acidity', 'residual sugar', 'total sulfur dioxide', 'alcohol',\n",
       "       'colour'],\n",
       "      dtype='object')"
      ]
     },
     "execution_count": 11,
     "metadata": {
      "tags": []
     },
     "output_type": "execute_result"
    }
   ],
   "source": [
    "wine.columns"
   ]
  },
  {
   "cell_type": "markdown",
   "metadata": {
    "colab_type": "text",
    "id": "AyQzK64Ap_k0"
   },
   "source": [
    "What data types do we have?"
   ]
  },
  {
   "cell_type": "code",
   "execution_count": 13,
   "metadata": {
    "colab": {
     "autoexec": {
      "startup": false,
      "wait_interval": 0
     },
     "base_uri": "https://localhost:8080/",
     "height": 187
    },
    "colab_type": "code",
    "executionInfo": {
     "elapsed": 1241,
     "status": "ok",
     "timestamp": 1532019884094,
     "user": {
      "displayName": "Hannah Penfold",
      "photoUrl": "//lh3.googleusercontent.com/-c1fxp7gOJUo/AAAAAAAAAAI/AAAAAAAAAGk/tRPI_hFXTQ8/s50-c-k-no/photo.jpg",
      "userId": "114469263464299247639"
     },
     "user_tz": -60
    },
    "id": "9s9aLQ2otNAr",
    "outputId": "e8b60af8-abd2-4c60-a4dd-620778783f4b"
   },
   "outputs": [
    {
     "name": "stdout",
     "output_type": "stream",
     "text": [
      "<class 'pandas.core.frame.DataFrame'>\n",
      "RangeIndex: 6497 entries, 0 to 6496\n",
      "Data columns (total 5 columns):\n",
      "fixed acidity           6497 non-null float64\n",
      "residual sugar          6497 non-null float64\n",
      "total sulfur dioxide    6497 non-null float64\n",
      "alcohol                 6497 non-null float64\n",
      "colour                  6497 non-null object\n",
      "dtypes: float64(4), object(1)\n",
      "memory usage: 253.9+ KB\n"
     ]
    }
   ],
   "source": [
    "wine.info()"
   ]
  },
  {
   "cell_type": "markdown",
   "metadata": {
    "colab_type": "text",
    "id": "M6qmun-ntZsx"
   },
   "source": [
    "Great, we don't have any missing values to deal with. Obviously this is rarely the case when working with data in real life, normally you'll have to think about how you're going to deal with **missing values, changing the data types or cleaning your data**. This can involve stripping characters from strings, converting integers to floats, or many other things.\n",
    "\n",
    "This is normally the most time consuming part of any data science project. When working through the EDA process you learn about the data, and often highlight further things you need to fix in order to conduct your analysis. \n",
    "\n",
    "__Exploring the data__\n",
    "\n",
    "Let's look at some summary statistics - can we identify clear differences between red and white wines"
   ]
  },
  {
   "cell_type": "code",
   "execution_count": 12,
   "metadata": {
    "colab": {
     "autoexec": {
      "startup": false,
      "wait_interval": 0
     },
     "base_uri": "https://localhost:8080/",
     "height": 1041
    },
    "colab_type": "code",
    "executionInfo": {
     "elapsed": 1115,
     "status": "ok",
     "timestamp": 1532019885358,
     "user": {
      "displayName": "Hannah Penfold",
      "photoUrl": "//lh3.googleusercontent.com/-c1fxp7gOJUo/AAAAAAAAAAI/AAAAAAAAAGk/tRPI_hFXTQ8/s50-c-k-no/photo.jpg",
      "userId": "114469263464299247639"
     },
     "user_tz": -60
    },
    "id": "rID6IdIz2CBU",
    "outputId": "6098558d-5191-411f-a956-eb587425ff5f"
   },
   "outputs": [
    {
     "data": {
      "text/html": [
       "<div>\n",
       "<style scoped>\n",
       "    .dataframe tbody tr th:only-of-type {\n",
       "        vertical-align: middle;\n",
       "    }\n",
       "\n",
       "    .dataframe tbody tr th {\n",
       "        vertical-align: top;\n",
       "    }\n",
       "\n",
       "    .dataframe thead th {\n",
       "        text-align: right;\n",
       "    }\n",
       "</style>\n",
       "<table border=\"1\" class=\"dataframe\">\n",
       "  <thead>\n",
       "    <tr style=\"text-align: right;\">\n",
       "      <th></th>\n",
       "      <th>colour</th>\n",
       "      <th>r</th>\n",
       "      <th>w</th>\n",
       "    </tr>\n",
       "  </thead>\n",
       "  <tbody>\n",
       "    <tr>\n",
       "      <th rowspan=\"8\" valign=\"top\">alcohol</th>\n",
       "      <th>count</th>\n",
       "      <td>1599.000000</td>\n",
       "      <td>4898.000000</td>\n",
       "    </tr>\n",
       "    <tr>\n",
       "      <th>mean</th>\n",
       "      <td>10.422983</td>\n",
       "      <td>10.514267</td>\n",
       "    </tr>\n",
       "    <tr>\n",
       "      <th>std</th>\n",
       "      <td>1.065668</td>\n",
       "      <td>1.230621</td>\n",
       "    </tr>\n",
       "    <tr>\n",
       "      <th>min</th>\n",
       "      <td>8.400000</td>\n",
       "      <td>8.000000</td>\n",
       "    </tr>\n",
       "    <tr>\n",
       "      <th>25%</th>\n",
       "      <td>9.500000</td>\n",
       "      <td>9.500000</td>\n",
       "    </tr>\n",
       "    <tr>\n",
       "      <th>50%</th>\n",
       "      <td>10.200000</td>\n",
       "      <td>10.400000</td>\n",
       "    </tr>\n",
       "    <tr>\n",
       "      <th>75%</th>\n",
       "      <td>11.100000</td>\n",
       "      <td>11.400000</td>\n",
       "    </tr>\n",
       "    <tr>\n",
       "      <th>max</th>\n",
       "      <td>14.900000</td>\n",
       "      <td>14.200000</td>\n",
       "    </tr>\n",
       "    <tr>\n",
       "      <th rowspan=\"8\" valign=\"top\">fixed acidity</th>\n",
       "      <th>count</th>\n",
       "      <td>1599.000000</td>\n",
       "      <td>4898.000000</td>\n",
       "    </tr>\n",
       "    <tr>\n",
       "      <th>mean</th>\n",
       "      <td>8.319637</td>\n",
       "      <td>6.854788</td>\n",
       "    </tr>\n",
       "    <tr>\n",
       "      <th>std</th>\n",
       "      <td>1.741096</td>\n",
       "      <td>0.843868</td>\n",
       "    </tr>\n",
       "    <tr>\n",
       "      <th>min</th>\n",
       "      <td>4.600000</td>\n",
       "      <td>3.800000</td>\n",
       "    </tr>\n",
       "    <tr>\n",
       "      <th>25%</th>\n",
       "      <td>7.100000</td>\n",
       "      <td>6.300000</td>\n",
       "    </tr>\n",
       "    <tr>\n",
       "      <th>50%</th>\n",
       "      <td>7.900000</td>\n",
       "      <td>6.800000</td>\n",
       "    </tr>\n",
       "    <tr>\n",
       "      <th>75%</th>\n",
       "      <td>9.200000</td>\n",
       "      <td>7.300000</td>\n",
       "    </tr>\n",
       "    <tr>\n",
       "      <th>max</th>\n",
       "      <td>15.900000</td>\n",
       "      <td>14.200000</td>\n",
       "    </tr>\n",
       "    <tr>\n",
       "      <th rowspan=\"8\" valign=\"top\">residual sugar</th>\n",
       "      <th>count</th>\n",
       "      <td>1599.000000</td>\n",
       "      <td>4898.000000</td>\n",
       "    </tr>\n",
       "    <tr>\n",
       "      <th>mean</th>\n",
       "      <td>2.538806</td>\n",
       "      <td>6.391415</td>\n",
       "    </tr>\n",
       "    <tr>\n",
       "      <th>std</th>\n",
       "      <td>1.409928</td>\n",
       "      <td>5.072058</td>\n",
       "    </tr>\n",
       "    <tr>\n",
       "      <th>min</th>\n",
       "      <td>0.900000</td>\n",
       "      <td>0.600000</td>\n",
       "    </tr>\n",
       "    <tr>\n",
       "      <th>25%</th>\n",
       "      <td>1.900000</td>\n",
       "      <td>1.700000</td>\n",
       "    </tr>\n",
       "    <tr>\n",
       "      <th>50%</th>\n",
       "      <td>2.200000</td>\n",
       "      <td>5.200000</td>\n",
       "    </tr>\n",
       "    <tr>\n",
       "      <th>75%</th>\n",
       "      <td>2.600000</td>\n",
       "      <td>9.900000</td>\n",
       "    </tr>\n",
       "    <tr>\n",
       "      <th>max</th>\n",
       "      <td>15.500000</td>\n",
       "      <td>65.800000</td>\n",
       "    </tr>\n",
       "    <tr>\n",
       "      <th rowspan=\"8\" valign=\"top\">total sulfur dioxide</th>\n",
       "      <th>count</th>\n",
       "      <td>1599.000000</td>\n",
       "      <td>4898.000000</td>\n",
       "    </tr>\n",
       "    <tr>\n",
       "      <th>mean</th>\n",
       "      <td>46.467792</td>\n",
       "      <td>138.360657</td>\n",
       "    </tr>\n",
       "    <tr>\n",
       "      <th>std</th>\n",
       "      <td>32.895324</td>\n",
       "      <td>42.498065</td>\n",
       "    </tr>\n",
       "    <tr>\n",
       "      <th>min</th>\n",
       "      <td>6.000000</td>\n",
       "      <td>9.000000</td>\n",
       "    </tr>\n",
       "    <tr>\n",
       "      <th>25%</th>\n",
       "      <td>22.000000</td>\n",
       "      <td>108.000000</td>\n",
       "    </tr>\n",
       "    <tr>\n",
       "      <th>50%</th>\n",
       "      <td>38.000000</td>\n",
       "      <td>134.000000</td>\n",
       "    </tr>\n",
       "    <tr>\n",
       "      <th>75%</th>\n",
       "      <td>62.000000</td>\n",
       "      <td>167.000000</td>\n",
       "    </tr>\n",
       "    <tr>\n",
       "      <th>max</th>\n",
       "      <td>289.000000</td>\n",
       "      <td>440.000000</td>\n",
       "    </tr>\n",
       "  </tbody>\n",
       "</table>\n",
       "</div>"
      ],
      "text/plain": [
       "colour                                r            w\n",
       "alcohol              count  1599.000000  4898.000000\n",
       "                     mean     10.422983    10.514267\n",
       "                     std       1.065668     1.230621\n",
       "                     min       8.400000     8.000000\n",
       "                     25%       9.500000     9.500000\n",
       "                     50%      10.200000    10.400000\n",
       "                     75%      11.100000    11.400000\n",
       "                     max      14.900000    14.200000\n",
       "fixed acidity        count  1599.000000  4898.000000\n",
       "                     mean      8.319637     6.854788\n",
       "                     std       1.741096     0.843868\n",
       "                     min       4.600000     3.800000\n",
       "                     25%       7.100000     6.300000\n",
       "                     50%       7.900000     6.800000\n",
       "                     75%       9.200000     7.300000\n",
       "                     max      15.900000    14.200000\n",
       "residual sugar       count  1599.000000  4898.000000\n",
       "                     mean      2.538806     6.391415\n",
       "                     std       1.409928     5.072058\n",
       "                     min       0.900000     0.600000\n",
       "                     25%       1.900000     1.700000\n",
       "                     50%       2.200000     5.200000\n",
       "                     75%       2.600000     9.900000\n",
       "                     max      15.500000    65.800000\n",
       "total sulfur dioxide count  1599.000000  4898.000000\n",
       "                     mean     46.467792   138.360657\n",
       "                     std      32.895324    42.498065\n",
       "                     min       6.000000     9.000000\n",
       "                     25%      22.000000   108.000000\n",
       "                     50%      38.000000   134.000000\n",
       "                     75%      62.000000   167.000000\n",
       "                     max     289.000000   440.000000"
      ]
     },
     "execution_count": 12,
     "metadata": {},
     "output_type": "execute_result"
    }
   ],
   "source": [
    "wine.groupby('colour').describe().T"
   ]
  },
  {
   "cell_type": "markdown",
   "metadata": {
    "colab_type": "text",
    "id": "dZzQaW4bMJXz"
   },
   "source": [
    "How many observations do we have of each colour?"
   ]
  },
  {
   "cell_type": "code",
   "execution_count": 13,
   "metadata": {
    "colab": {
     "autoexec": {
      "startup": false,
      "wait_interval": 0
     },
     "base_uri": "https://localhost:8080/",
     "height": 68
    },
    "colab_type": "code",
    "executionInfo": {
     "elapsed": 984,
     "status": "ok",
     "timestamp": 1532019886861,
     "user": {
      "displayName": "Hannah Penfold",
      "photoUrl": "//lh3.googleusercontent.com/-c1fxp7gOJUo/AAAAAAAAAAI/AAAAAAAAAGk/tRPI_hFXTQ8/s50-c-k-no/photo.jpg",
      "userId": "114469263464299247639"
     },
     "user_tz": -60
    },
    "id": "OpPiroskuvbP",
    "outputId": "9178a5c5-6e52-401c-c07b-8865cc811b5c"
   },
   "outputs": [
    {
     "data": {
      "text/plain": [
       "w    4898\n",
       "r    1599\n",
       "Name: colour, dtype: int64"
      ]
     },
     "execution_count": 13,
     "metadata": {},
     "output_type": "execute_result"
    }
   ],
   "source": [
    "wine['colour'].value_counts()"
   ]
  },
  {
   "cell_type": "markdown",
   "metadata": {},
   "source": [
    "**Visualising the data**"
   ]
  },
  {
   "cell_type": "code",
   "execution_count": 18,
   "metadata": {
    "colab": {
     "autoexec": {
      "startup": false,
      "wait_interval": 0
     },
     "base_uri": "https://localhost:8080/",
     "height": 524
    },
    "colab_type": "code",
    "executionInfo": {
     "elapsed": 1130,
     "status": "ok",
     "timestamp": 1532019890890,
     "user": {
      "displayName": "Hannah Penfold",
      "photoUrl": "//lh3.googleusercontent.com/-c1fxp7gOJUo/AAAAAAAAAAI/AAAAAAAAAGk/tRPI_hFXTQ8/s50-c-k-no/photo.jpg",
      "userId": "114469263464299247639"
     },
     "user_tz": -60
    },
    "id": "aFYK51qgr-2N",
    "outputId": "3d5f426e-3b44-4576-e553-91c10c4822b4"
   },
   "outputs": [
    {
     "data": {
      "image/png": "[encoded data removed]",
      "text/plain": [
       "<Figure size 864x576 with 2 Axes>"
      ]
     },
     "metadata": {},
     "output_type": "display_data"
    }
   ],
   "source": [
    "corr = wine.drop('colour', 1).astype(float).corr()\n",
    "plt.figure(figsize=(12,8))\n",
    "plt.title('Pearson Correlation of Features', y=1.05, size=18)\n",
    "\n",
    "mask = np.zeros_like(corr, dtype=np.bool)\n",
    "mask[np.triu_indices_from(mask)] = True\n",
    "\n",
    "sns.heatmap(\n",
    "    corr,\n",
    "    linewidths=0.1,\n",
    "    mask=mask, \n",
    "    vmax=1.0, \n",
    "    square=True, \n",
    "    cmap=plt.cm.viridis, \n",
    "    linecolor='white', \n",
    "    annot=True\n",
    ")\n",
    "plt.show()"
   ]
  },
  {
   "cell_type": "code",
   "execution_count": 55,
   "metadata": {
    "colab": {
     "autoexec": {
      "startup": false,
      "wait_interval": 0
     },
     "base_uri": "https://localhost:8080/",
     "height": 577
    },
    "colab_type": "code",
    "executionInfo": {
     "elapsed": 3252,
     "status": "ok",
     "timestamp": 1532019902366,
     "user": {
      "displayName": "Hannah Penfold",
      "photoUrl": "//lh3.googleusercontent.com/-c1fxp7gOJUo/AAAAAAAAAAI/AAAAAAAAAGk/tRPI_hFXTQ8/s50-c-k-no/photo.jpg",
      "userId": "114469263464299247639"
     },
     "user_tz": -60
    },
    "id": "q7FIT63qv8QK",
    "outputId": "bd1dcf05-81ba-47a6-bf67-01182dc51d01"
   },
   "outputs": [
    {
     "data": {
      "image/png": "[encoded data removed]",
      "text/plain": [
       "<Figure size 620.125x576 with 20 Axes>"
      ]
     },
     "metadata": {},
     "output_type": "display_data"
    }
   ],
   "source": [
    "sns.pairplot(\n",
    "    wine.sample(frac=.5), \n",
    "    hue= 'colour', \n",
    "    vars= ['total sulfur dioxide', \n",
    "           'alcohol','fixed acidity', \n",
    "           'residual sugar'],\n",
    "    height=2,\n",
    "    diag_kind='hist',\n",
    "    plot_kws=dict(alpha=0.3)\n",
    ")\n",
    "plt.show()"
   ]
  },
  {
   "cell_type": "code",
   "execution_count": 45,
   "metadata": {
    "colab": {
     "autoexec": {
      "startup": false,
      "wait_interval": 0
     },
     "base_uri": "https://localhost:8080/",
     "height": 391
    },
    "colab_type": "code",
    "executionInfo": {
     "elapsed": 582,
     "status": "ok",
     "timestamp": 1532019908097,
     "user": {
      "displayName": "Hannah Penfold",
      "photoUrl": "//lh3.googleusercontent.com/-c1fxp7gOJUo/AAAAAAAAAAI/AAAAAAAAAGk/tRPI_hFXTQ8/s50-c-k-no/photo.jpg",
      "userId": "114469263464299247639"
     },
     "user_tz": -60
    },
    "id": "aJ7uL53ov8Hk",
    "outputId": "f6d041e0-22db-4156-e33f-b6e03fa93496"
   },
   "outputs": [
    {
     "data": {
      "image/png": "[encoded data removed]",
      "text/plain": [
       "<Figure size 1008x432 with 3 Axes>"
      ]
     },
     "metadata": {},
     "output_type": "display_data"
    }
   ],
   "source": [
    "boxprops = dict(linewidth=3)\n",
    "wine.boxplot(\n",
    "    column=['residual sugar', 'fixed acidity', 'alcohol'], \n",
    "    by='colour', \n",
    "    boxprops=boxprops, \n",
    "    figsize=(14,6), \n",
    "    layout=(1,3)\n",
    ")\n",
    "plt.show()"
   ]
  },
  {
   "cell_type": "code",
   "execution_count": 53,
   "metadata": {},
   "outputs": [
    {
     "data": {
      "image/png": "[encoded data removed]",
      "text/plain": [
       "<Figure size 1296x432 with 1 Axes>"
      ]
     },
     "metadata": {},
     "output_type": "display_data"
    }
   ],
   "source": [
    "g = sns.FacetGrid(wine, hue='colour', height=6, aspect=3)\n",
    "g.map(sns.distplot, \"total sulfur dioxide\")\n",
    "plt.show()"
   ]
  },
  {
   "cell_type": "markdown",
   "metadata": {},
   "source": [
    "**Feature engineering**\n",
    "\n",
    "In the data exploration and cleaning phase, I also perform feature engineering. Feature engineering is the construction of new features from old features. Some basic types of feature engineering would be to create interaction variables from two features or to create lagged variables for time series analysis."
   ]
  },
  {
   "cell_type": "markdown",
   "metadata": {
    "colab_type": "text",
    "id": "OSKmgAhZ668C"
   },
   "source": [
    "### 4. Model the data\n",
    "\n",
    "----\n",
    "\n",
    "Whenever I start the modelling part of the project I initially start by creating a **baseline model**. This can be thought of as fitting the simplest model possible to the data to provide a **starting point to improve from**. \n",
    "\n",
    "The most naive way of doing this in a classification problem would be to determine the accuracy of our model if we just predicted the most common class the whole time."
   ]
  },
  {
   "cell_type": "code",
   "execution_count": 60,
   "metadata": {
    "colab_type": "text",
    "id": "CYoAxIjRtRHJ"
   },
   "outputs": [
    {
     "data": {
      "text/plain": [
       "w    4898\n",
       "r    1599\n",
       "Name: colour, dtype: int64"
      ]
     },
     "execution_count": 60,
     "metadata": {},
     "output_type": "execute_result"
    }
   ],
   "source": [
    "wine.colour.value_counts()"
   ]
  },
  {
   "cell_type": "code",
   "execution_count": 21,
   "metadata": {
    "colab": {
     "autoexec": {
      "startup": false,
      "wait_interval": 0
     },
     "base_uri": "https://localhost:8080/",
     "height": 34
    },
    "colab_type": "code",
    "executionInfo": {
     "elapsed": 763,
     "status": "ok",
     "timestamp": 1532019914806,
     "user": {
      "displayName": "Hannah Penfold",
      "photoUrl": "//lh3.googleusercontent.com/-c1fxp7gOJUo/AAAAAAAAAAI/AAAAAAAAAGk/tRPI_hFXTQ8/s50-c-k-no/photo.jpg",
      "userId": "114469263464299247639"
     },
     "user_tz": -60
    },
    "id": "cqvR_8tbtD-O",
    "outputId": "33f88f05-f816-4aef-e4ec-5735305b0a8d"
   },
   "outputs": [
    {
     "data": {
      "text/plain": [
       "0.7538864091118977"
      ]
     },
     "execution_count": 21,
     "metadata": {
      "tags": []
     },
     "output_type": "execute_result"
    }
   ],
   "source": [
    "(wine['colour']== 'w').mean()"
   ]
  },
  {
   "cell_type": "markdown",
   "metadata": {},
   "source": [
    "People also often use a simple linear model as a baseline model, such as a linear regression for a regression problem or a logistic regression for a classification problem.\n",
    "\n",
    "When it comes to selecting which algorithm to use you will need to use your knowledge and experience to determine which models are appropriate for the data you have and for the problem you are solving. You will need to think about things such as whther your data is linear or not, or whether you are working in high dimensional space or with sparse matrices. \n",
    "\n",
    "We will be using a python machine learning package called Scikit-Learn. We can use Scikit-Learn for modeling (classification, regression, and clustering). It can also be used for dimensionality reduction (Principal Component Analysis), model selection (grid search, evaluation metrics), and preprocessing data. A huge benefit of Scikit-Learn is that the process we follow when modelling is very similar across different algorithms."
   ]
  },
  {
   "cell_type": "markdown",
   "metadata": {
    "colab_type": "text",
    "id": "Z-gSOrwpQkh1"
   },
   "source": [
    "#### K-Nearest Neighbours\n",
    "\n",
    "KNN is one of the simplest classification algorithms  \n",
    "  * Non parametric \n",
    "  * Lazy learning \n",
    "  \n",
    "KNN Algorithm is based on feature similarity: How closely out-of-sample features resemble our training set determines how we classify a given data point\n",
    "\n",
    "Let's build a simple model with two features to predict whther a wine is white or red. "
   ]
  },
  {
   "cell_type": "code",
   "execution_count": 37,
   "metadata": {
    "colab": {
     "autoexec": {
      "startup": false,
      "wait_interval": 0
     },
     "base_uri": "https://localhost:8080/",
     "height": 509
    },
    "colab_type": "code",
    "executionInfo": {
     "elapsed": 889,
     "status": "ok",
     "timestamp": 1532000656875,
     "user": {
      "displayName": "Hannah Penfold",
      "photoUrl": "//lh3.googleusercontent.com/-c1fxp7gOJUo/AAAAAAAAAAI/AAAAAAAAAGk/tRPI_hFXTQ8/s50-c-k-no/photo.jpg",
      "userId": "114469263464299247639"
     },
     "user_tz": -60
    },
    "id": "iGAvyx0CUbXb",
    "outputId": "9b51d42d-eb42-45c2-f70a-1f0e41dfee37"
   },
   "outputs": [
    {
     "data": {
      "image/png": "[encoded data removed]",
      "text/plain": [
       "<matplotlib.figure.Figure at 0x7fe1d6e94e48>"
      ]
     },
     "metadata": {
      "tags": []
     },
     "output_type": "display_data"
    }
   ],
   "source": [
    "sns.lmplot(x='fixed acidity', y='total sulfur dioxide', hue='colour', data=wine.sample(200), fit_reg=False, size=7)\n",
    "sns.plt.show()"
   ]
  },
  {
   "cell_type": "markdown",
   "metadata": {},
   "source": [
    "#### Pre-processing\n",
    "\n",
    "You may need to take further pre-processing steps before you can start modelling to ensure your data is in a appropriate format. This will definitely be true if your dealing with unstructured data, like text data. \n",
    "We will need to separate out our features from our variable we are predicting and use a train-test-split to prevent overfitting of our model. \n",
    "\n",
    "Overfitting is when our model has learnt the structure of the training data too well and has learnt the noise rather that key signals. When this happens when we feed the model new (unseen) data it's unlikely to perform very well. Creating a training-test-split helps to combat overfitting. \n"
   ]
  },
  {
   "cell_type": "code",
   "execution_count": 61,
   "metadata": {
    "colab": {
     "autoexec": {
      "startup": false,
      "wait_interval": 0
     }
    },
    "colab_type": "code",
    "id": "fec7CwlHRMiJ"
   },
   "outputs": [],
   "source": [
    "X = wine[['fixed acidity', 'total sulfur dioxide']]\n",
    "y = wine.colour.factorize()[0]"
   ]
  },
  {
   "cell_type": "code",
   "execution_count": 62,
   "metadata": {
    "colab": {
     "autoexec": {
      "startup": false,
      "wait_interval": 0
     }
    },
    "colab_type": "code",
    "id": "yVh5jXIiQyUJ"
   },
   "outputs": [],
   "source": [
    "X_train, X_test, y_train, y_test = ms.train_test_split(\n",
    "    X, y, test_size=0.3, random_state=42)"
   ]
  },
  {
   "cell_type": "code",
   "execution_count": 64,
   "metadata": {},
   "outputs": [
    {
     "name": "stdout",
     "output_type": "stream",
     "text": [
      "(4547, 2) (4547,)\n",
      "(1950, 2) (1950,)\n"
     ]
    }
   ],
   "source": [
    "print (X_train.shape, y_train.shape)\n",
    "print (X_test.shape, y_test.shape)"
   ]
  },
  {
   "cell_type": "markdown",
   "metadata": {
    "colab_type": "text",
    "id": "pofBJde1_kgN"
   },
   "source": [
    "#### Fitting a KNN model\n",
    "\n",
    "We are going to **fit** our model on the **training data**. Then we are going to **test** our model by having it **predict** _y values_ for our *X_test* data. We can then evaluate how well our model performed by seeing how far off the _predicted y_ values were from the _actual y_ values."
   ]
  },
  {
   "cell_type": "code",
   "execution_count": 65,
   "metadata": {
    "colab": {
     "autoexec": {
      "startup": false,
      "wait_interval": 0
     },
     "base_uri": "https://localhost:8080/",
     "height": 68
    },
    "colab_type": "code",
    "executionInfo": {
     "elapsed": 499,
     "status": "ok",
     "timestamp": 1532019929976,
     "user": {
      "displayName": "Hannah Penfold",
      "photoUrl": "//lh3.googleusercontent.com/-c1fxp7gOJUo/AAAAAAAAAAI/AAAAAAAAAGk/tRPI_hFXTQ8/s50-c-k-no/photo.jpg",
      "userId": "114469263464299247639"
     },
     "user_tz": -60
    },
    "id": "XaTBwQ37XH0d",
    "outputId": "2f342ab1-a586-48ac-e6c0-3bc95679b5b2"
   },
   "outputs": [
    {
     "data": {
      "text/plain": [
       "KNeighborsClassifier(algorithm='auto', leaf_size=30, metric='minkowski',\n",
       "           metric_params=None, n_jobs=1, n_neighbors=2, p=2,\n",
       "           weights='uniform')"
      ]
     },
     "execution_count": 65,
     "metadata": {},
     "output_type": "execute_result"
    }
   ],
   "source": [
    "knn_uniform = neighbors.KNeighborsClassifier(n_neighbors=2, weights='uniform')\n",
    "knn_uniform.fit(X_train, y_train)"
   ]
  },
  {
   "cell_type": "markdown",
   "metadata": {},
   "source": [
    "#### Evaluation "
   ]
  },
  {
   "cell_type": "markdown",
   "metadata": {
    "colab_type": "text",
    "id": "5aO4lqIDeuZF"
   },
   "source": [
    "How well did we classify wines in our test data as being red or white?"
   ]
  },
  {
   "cell_type": "code",
   "execution_count": 66,
   "metadata": {
    "colab": {
     "autoexec": {
      "startup": false,
      "wait_interval": 0
     },
     "base_uri": "https://localhost:8080/",
     "height": 34
    },
    "colab_type": "code",
    "executionInfo": {
     "elapsed": 500,
     "status": "ok",
     "timestamp": 1532019932643,
     "user": {
      "displayName": "Hannah Penfold",
      "photoUrl": "//lh3.googleusercontent.com/-c1fxp7gOJUo/AAAAAAAAAAI/AAAAAAAAAGk/tRPI_hFXTQ8/s50-c-k-no/photo.jpg",
      "userId": "114469263464299247639"
     },
     "user_tz": -60
    },
    "id": "eeet9vqieuBJ",
    "outputId": "5a3b8f90-764b-4026-8cd2-63271a35d924"
   },
   "outputs": [
    {
     "data": {
      "text/plain": [
       "0.916923076923077"
      ]
     },
     "execution_count": 66,
     "metadata": {},
     "output_type": "execute_result"
    }
   ],
   "source": [
    "metrics.accuracy_score(y_test, knn_uniform.predict(X_test))"
   ]
  },
  {
   "cell_type": "markdown",
   "metadata": {},
   "source": [
    "We managed to successfully classify whether a wine was red or white 92% of the time. \n",
    "\n",
    "It's important at this stage to think back to the success criteria for the project and compare the performance of the model against that. \n",
    "\n",
    "Accuracy isn't the only metric you can use to analyse the results of a classification model. A confusion matrix can give us more information about how our model is performing."
   ]
  },
  {
   "cell_type": "code",
   "execution_count": 26,
   "metadata": {
    "colab": {
     "autoexec": {
      "startup": false,
      "wait_interval": 0
     },
     "base_uri": "https://localhost:8080/",
     "height": 467
    },
    "colab_type": "code",
    "executionInfo": {
     "elapsed": 774,
     "status": "ok",
     "timestamp": 1532019935150,
     "user": {
      "displayName": "Hannah Penfold",
      "photoUrl": "//lh3.googleusercontent.com/-c1fxp7gOJUo/AAAAAAAAAAI/AAAAAAAAAGk/tRPI_hFXTQ8/s50-c-k-no/photo.jpg",
      "userId": "114469263464299247639"
     },
     "user_tz": -60
    },
    "id": "Qnj3jAJNgVJ3",
    "outputId": "22eb3b27-7e93-44fa-ffaf-45979871fb07"
   },
   "outputs": [
    {
     "data": {
      "image/png": "[encoded data removed]",
      "text/plain": [
       "<matplotlib.figure.Figure at 0x7fe878b62dd8>"
      ]
     },
     "metadata": {
      "tags": []
     },
     "output_type": "display_data"
    }
   ],
   "source": [
    "conmat = metrics.confusion_matrix(y_test, knn_uniform.predict(X_test))\n",
    "plot_confusion_matrix(conmat, [\"White\", \"Red\"])"
   ]
  },
  {
   "cell_type": "markdown",
   "metadata": {
    "colab_type": "text",
    "id": "OiWdYDz3bz2x"
   },
   "source": [
    "#### Gridsearching to select the best model parameters"
   ]
  },
  {
   "cell_type": "code",
   "execution_count": 32,
   "metadata": {
    "colab": {
     "autoexec": {
      "startup": false,
      "wait_interval": 0
     },
     "base_uri": "https://localhost:8080/",
     "height": 204
    },
    "colab_type": "code",
    "executionInfo": {
     "elapsed": 8235,
     "status": "ok",
     "timestamp": 1532020001273,
     "user": {
      "displayName": "Hannah Penfold",
      "photoUrl": "//lh3.googleusercontent.com/-c1fxp7gOJUo/AAAAAAAAAAI/AAAAAAAAAGk/tRPI_hFXTQ8/s50-c-k-no/photo.jpg",
      "userId": "114469263464299247639"
     },
     "user_tz": -60
    },
    "id": "MgjVRdbXay1w",
    "outputId": "9cd09d63-f811-4111-bea5-4bbbf76bbb6b"
   },
   "outputs": [
    {
     "data": {
      "text/plain": [
       "GridSearchCV(cv=StratifiedKFold(n_splits=3, random_state=None, shuffle=True),\n",
       "       error_score='raise',\n",
       "       estimator=KNeighborsClassifier(algorithm='auto', leaf_size=30, metric='minkowski',\n",
       "           metric_params=None, n_jobs=1, n_neighbors=5, p=2,\n",
       "           weights='uniform'),\n",
       "       fit_params=None, iid=True, n_jobs=1,\n",
       "       param_grid={'weights': ['uniform', 'distance'], 'n_neighbors': array([ 2,  3,  4,  5,  6,  7,  8,  9, 10, 11, 12, 13, 14, 15, 16, 17, 18,\n",
       "       19, 20, 21, 22, 23, 24, 25, 26, 27, 28, 29, 30, 31, 32, 33, 34, 35,\n",
       "       36, 37, 38, 39, 40, 41, 42, 43, 44, 45, 46, 47, 48, 49])},\n",
       "       pre_dispatch='2*n_jobs', refit=True, return_train_score='warn',\n",
       "       scoring=None, verbose=0)"
      ]
     },
     "execution_count": 32,
     "metadata": {
      "tags": []
     },
     "output_type": "execute_result"
    }
   ],
   "source": [
    "params = {\n",
    "    'weights': ['uniform', 'distance'],\n",
    "    'n_neighbors': np.arange(2, 50)\n",
    "}\n",
    "three_fold_cv = ms.StratifiedKFold(n_splits=3, shuffle=True)\n",
    "gs = ms.GridSearchCV(\n",
    "    estimator=neighbors.KNeighborsClassifier(),\n",
    "    param_grid=params,\n",
    "    cv=three_fold_cv\n",
    ")\n",
    "gs.fit(X_train, y_train)"
   ]
  },
  {
   "cell_type": "code",
   "execution_count": 33,
   "metadata": {
    "colab": {
     "autoexec": {
      "startup": false,
      "wait_interval": 0
     },
     "base_uri": "https://localhost:8080/",
     "height": 68
    },
    "colab_type": "code",
    "executionInfo": {
     "elapsed": 520,
     "status": "ok",
     "timestamp": 1532020008430,
     "user": {
      "displayName": "Hannah Penfold",
      "photoUrl": "//lh3.googleusercontent.com/-c1fxp7gOJUo/AAAAAAAAAAI/AAAAAAAAAGk/tRPI_hFXTQ8/s50-c-k-no/photo.jpg",
      "userId": "114469263464299247639"
     },
     "user_tz": -60
    },
    "id": "14kULvuPcKE0",
    "outputId": "b61d2446-3e10-4e5f-854f-3e0f1d367572"
   },
   "outputs": [
    {
     "data": {
      "text/plain": [
       "KNeighborsClassifier(algorithm='auto', leaf_size=30, metric='minkowski',\n",
       "           metric_params=None, n_jobs=1, n_neighbors=23, p=2,\n",
       "           weights='uniform')"
      ]
     },
     "execution_count": 33,
     "metadata": {
      "tags": []
     },
     "output_type": "execute_result"
    }
   ],
   "source": [
    "gs.best_estimator_"
   ]
  },
  {
   "cell_type": "code",
   "execution_count": 34,
   "metadata": {
    "colab": {
     "autoexec": {
      "startup": false,
      "wait_interval": 0
     },
     "base_uri": "https://localhost:8080/",
     "height": 34
    },
    "colab_type": "code",
    "executionInfo": {
     "elapsed": 578,
     "status": "ok",
     "timestamp": 1532020011210,
     "user": {
      "displayName": "Hannah Penfold",
      "photoUrl": "//lh3.googleusercontent.com/-c1fxp7gOJUo/AAAAAAAAAAI/AAAAAAAAAGk/tRPI_hFXTQ8/s50-c-k-no/photo.jpg",
      "userId": "114469263464299247639"
     },
     "user_tz": -60
    },
    "id": "_Z8My4DTcPeu",
    "outputId": "fd195621-8b03-4fa0-b88b-1a9d7b9ae6ef"
   },
   "outputs": [
    {
     "data": {
      "text/plain": [
       "0.9335825819221465"
      ]
     },
     "execution_count": 34,
     "metadata": {
      "tags": []
     },
     "output_type": "execute_result"
    }
   ],
   "source": [
    "gs.best_score_"
   ]
  },
  {
   "cell_type": "code",
   "execution_count": 35,
   "metadata": {
    "colab": {
     "autoexec": {
      "startup": false,
      "wait_interval": 0
     },
     "base_uri": "https://localhost:8080/",
     "height": 34
    },
    "colab_type": "code",
    "executionInfo": {
     "elapsed": 510,
     "status": "ok",
     "timestamp": 1532020012602,
     "user": {
      "displayName": "Hannah Penfold",
      "photoUrl": "//lh3.googleusercontent.com/-c1fxp7gOJUo/AAAAAAAAAAI/AAAAAAAAAGk/tRPI_hFXTQ8/s50-c-k-no/photo.jpg",
      "userId": "114469263464299247639"
     },
     "user_tz": -60
    },
    "id": "3wXxkVCxcUIj",
    "outputId": "2efb5bc2-076f-41f2-d5b9-b3aac4cfc702"
   },
   "outputs": [
    {
     "data": {
      "text/plain": [
       "0.9287179487179488"
      ]
     },
     "execution_count": 35,
     "metadata": {
      "tags": []
     },
     "output_type": "execute_result"
    }
   ],
   "source": [
    "metrics.accuracy_score(y_test, gs.best_estimator_.predict(X_test))"
   ]
  },
  {
   "cell_type": "markdown",
   "metadata": {
    "colab_type": "text",
    "id": "_UJ4ph3GYBer"
   },
   "source": [
    "#### What if we use more features?"
   ]
  },
  {
   "cell_type": "code",
   "execution_count": null,
   "metadata": {
    "colab": {
     "autoexec": {
      "startup": false,
      "wait_interval": 0
     }
    },
    "colab_type": "code",
    "id": "4zl9H1eVdvkL"
   },
   "outputs": [],
   "source": [
    "X = wine[['fixed acidity', 'total sulfur dioxide', 'residual sugar', 'alcohol']]\n",
    "y = wine.colour.factorize()[0]\n",
    "\n",
    "X_train, X_test, y_train, y_test = ms.train_test_split(\n",
    "    X, y, test_size=0.3, random_state=42)"
   ]
  },
  {
   "cell_type": "code",
   "execution_count": 38,
   "metadata": {
    "colab": {
     "autoexec": {
      "startup": false,
      "wait_interval": 0
     },
     "base_uri": "https://localhost:8080/",
     "height": 68
    },
    "colab_type": "code",
    "executionInfo": {
     "elapsed": 406,
     "status": "ok",
     "timestamp": 1532020023599,
     "user": {
      "displayName": "Hannah Penfold",
      "photoUrl": "//lh3.googleusercontent.com/-c1fxp7gOJUo/AAAAAAAAAAI/AAAAAAAAAGk/tRPI_hFXTQ8/s50-c-k-no/photo.jpg",
      "userId": "114469263464299247639"
     },
     "user_tz": -60
    },
    "id": "sPkN5atLdvgn",
    "outputId": "cd864a10-981d-4653-fb57-d2be2da946cf"
   },
   "outputs": [
    {
     "data": {
      "text/plain": [
       "KNeighborsClassifier(algorithm='auto', leaf_size=30, metric='minkowski',\n",
       "           metric_params=None, n_jobs=1, n_neighbors=5, p=2,\n",
       "           weights='uniform')"
      ]
     },
     "execution_count": 38,
     "metadata": {
      "tags": []
     },
     "output_type": "execute_result"
    }
   ],
   "source": [
    "knn_uniform = neighbors.KNeighborsClassifier(n_neighbors=5, weights='uniform')\n",
    "knn_uniform.fit(X_train, y_train)"
   ]
  },
  {
   "cell_type": "code",
   "execution_count": 39,
   "metadata": {
    "colab": {
     "autoexec": {
      "startup": false,
      "wait_interval": 0
     },
     "base_uri": "https://localhost:8080/",
     "height": 34
    },
    "colab_type": "code",
    "executionInfo": {
     "elapsed": 404,
     "status": "ok",
     "timestamp": 1532020024747,
     "user": {
      "displayName": "Hannah Penfold",
      "photoUrl": "//lh3.googleusercontent.com/-c1fxp7gOJUo/AAAAAAAAAAI/AAAAAAAAAGk/tRPI_hFXTQ8/s50-c-k-no/photo.jpg",
      "userId": "114469263464299247639"
     },
     "user_tz": -60
    },
    "id": "fMmyaYsfdvWI",
    "outputId": "746a419d-7efa-4c1b-98ea-7aa5f6826271"
   },
   "outputs": [
    {
     "data": {
      "text/plain": [
       "0.9512820512820512"
      ]
     },
     "execution_count": 39,
     "metadata": {
      "tags": []
     },
     "output_type": "execute_result"
    }
   ],
   "source": [
    "metrics.accuracy_score(y_test, knn_uniform.predict(X_test))"
   ]
  },
  {
   "cell_type": "code",
   "execution_count": 40,
   "metadata": {
    "colab": {
     "autoexec": {
      "startup": false,
      "wait_interval": 0
     },
     "base_uri": "https://localhost:8080/",
     "height": 467
    },
    "colab_type": "code",
    "executionInfo": {
     "elapsed": 697,
     "status": "ok",
     "timestamp": 1532020026220,
     "user": {
      "displayName": "Hannah Penfold",
      "photoUrl": "//lh3.googleusercontent.com/-c1fxp7gOJUo/AAAAAAAAAAI/AAAAAAAAAGk/tRPI_hFXTQ8/s50-c-k-no/photo.jpg",
      "userId": "114469263464299247639"
     },
     "user_tz": -60
    },
    "id": "ZrdNEci9eHWZ",
    "outputId": "78ba4a92-1948-414a-de59-80af6160eb0a"
   },
   "outputs": [
    {
     "data": {
      "image/png": "[encoded data removed]",
      "text/plain": [
       "<matplotlib.figure.Figure at 0x7fe8789ed080>"
      ]
     },
     "metadata": {
      "tags": []
     },
     "output_type": "display_data"
    }
   ],
   "source": [
    "conmat = metrics.confusion_matrix(y_test, knn_uniform.predict(X_test))\n",
    "plot_confusion_matrix(conmat, [\"White\", \"Red\"])"
   ]
  },
  {
   "cell_type": "markdown",
   "metadata": {},
   "source": [
    "### 5. Communicating the results\n",
    "---\n",
    "\n",
    "Finally you'll need to communicate the results of your model build process. You can showcase your results to the firm with a presentation and offer a technical overview on the process. Remember to keep your audience in mind. If you are presenting results to a room full of data scientists, go into detail. If you are advising the sales team, don’t get lost in the technical details before explaining your results. Give an overview of the technicals but focus of tying it back to how it has help to solve the business problem you were trying to solve. Make sure you've reviewed the success criteria for your project and whther you've met it. \n",
    "\n",
    "Its also a good idea to ensure that you have documented the key decisions that have been made during the model build and also outline any assumptions or limitations of the model. Finally you should summarise what the next steps are for the model, perhaps there's a more complex algorithm you think would capture the relationships better or a new feature that you think should be engineered. These ideas can then be picked up in future pieces of work.  \n",
    "\n",
    "\n",
    "### Deploying the model\n",
    "\n",
    "For some projects you might get the chance to operationalise the model you've built. You'll need to think aboout what changes need to be made to run the model in production. You should think about questions like: can the model handle real-time data, and how often will the model need to be retrained?  "
   ]
  },
  {
   "cell_type": "markdown",
   "metadata": {
    "colab_type": "text",
    "id": "XcYMoT-Re3p2"
   },
   "source": [
    "### Useful resources"
   ]
  },
  {
   "cell_type": "markdown",
   "metadata": {
    "colab_type": "text",
    "id": "K28yICeGUE3Y"
   },
   "source": [
    "Pandas cheat sheet - https://github.com/pandas-dev/pandas/raw/master/doc/cheatsheet/Pandas_Cheat_Sheet.pdf\n",
    "\n",
    "Pandas docs -\n",
    "http://pandas.pydata.org/pandas-docs/stable/ \n",
    "\n",
    "sklearn model selection - http://scikit-learn.org/stable/tutorial/machine_learning_map/"
   ]
  }
 ],
 "metadata": {
  "colab": {
   "default_view": {},
   "name": "Getting started with Data Science.ipynb",
   "provenance": [],
   "version": "0.3.2",
   "views": {}
  },
  "kernelspec": {
   "display_name": "Python 3",
   "language": "python",
   "name": "python3"
  },
  "language_info": {
   "codemirror_mode": {
    "name": "ipython",
    "version": 3
   },
   "file_extension": ".py",
   "mimetype": "text/x-python",
   "name": "python",
   "nbconvert_exporter": "python",
   "pygments_lexer": "ipython3",
   "version": "3.7.0"
  }
 },
 "nbformat": 4,
 "nbformat_minor": 2
}
